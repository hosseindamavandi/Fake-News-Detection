{
 "cells": [
  {
   "cell_type": "code",
   "execution_count": 38,
   "metadata": {},
   "outputs": [
    {
     "name": "stdout",
     "output_type": "stream",
     "text": [
      "The autotime extension is already loaded. To reload it, use:\n",
      "  %reload_ext autotime\n",
      "The autoreload extension is already loaded. To reload it, use:\n",
      "  %reload_ext autoreload\n",
      "time: 203 ms (started: 2023-07-25 11:51:44 +03:00)\n"
     ]
    }
   ],
   "source": [
    "#!pip install -q ipython-autotime\n",
    "%load_ext autotime\n",
    "%load_ext autoreload\n",
    "%timeit\n",
    "%autoreload 2"
   ]
  },
  {
   "cell_type": "code",
   "execution_count": 39,
   "metadata": {},
   "outputs": [
    {
     "name": "stdout",
     "output_type": "stream",
     "text": [
      "time: 188 ms (started: 2023-07-25 11:51:44 +03:00)\n"
     ]
    }
   ],
   "source": [
    "import pandas as pd\n",
    "import numpy as np\n",
    "import torch \n",
    "from torch import nn\n",
    "from Utils import *\n",
    "from preprocess import *\n",
    "from models import ANN, CNN1D, BILSTM\n",
    "from torch.utils.data import Dataset, DataLoader\n",
    "\n"
   ]
  },
  {
   "cell_type": "code",
   "execution_count": 40,
   "metadata": {},
   "outputs": [
    {
     "name": "stdout",
     "output_type": "stream",
     "text": [
      "time: 203 ms (started: 2023-07-25 11:51:44 +03:00)\n"
     ]
    }
   ],
   "source": [
    "loaded_data = np.load(\"cleaned-dataset\\data_npy.npy\")\n",
    "X_train, X_test, y_train, y_test = split_data(loaded_data, ratio=0.70, seed=42)\n",
    "\n",
    "training_dataset = TextDataset(X_train, y_train)\n",
    "testing_dataset = TextDataset(X_test, y_test)\n",
    "train_loader = DataLoader(dataset=training_dataset, batch_size=128, shuffle=True)\n",
    "test_loader = DataLoader(dataset=training_dataset, batch_size=128, shuffle=True)"
   ]
  },
  {
   "cell_type": "code",
   "execution_count": 41,
   "metadata": {},
   "outputs": [
    {
     "name": "stdout",
     "output_type": "stream",
     "text": [
      "time: 250 ms (started: 2023-07-25 11:51:45 +03:00)\n"
     ]
    }
   ],
   "source": [
    "def acc_func(y_true, y_pred):\n",
    "    y_pred = torch.round(y_pred)\n",
    "    return (y_true == y_pred).sum() / len(y_true)"
   ]
  },
  {
   "cell_type": "code",
   "execution_count": 42,
   "metadata": {},
   "outputs": [
    {
     "data": {
      "text/plain": [
       "(torch.Size([128, 100]),\n",
       " torch.Size([128, 1, 100]),\n",
       " torch.Size([128, 100, 1]),\n",
       " torch.Size([1, 128, 100]))"
      ]
     },
     "execution_count": 42,
     "metadata": {},
     "output_type": "execute_result"
    },
    {
     "name": "stdout",
     "output_type": "stream",
     "text": [
      "time: 187 ms (started: 2023-07-25 11:51:45 +03:00)\n"
     ]
    }
   ],
   "source": [
    "x, y = next(iter(train_loader))\n",
    "x.shape, x.unsqueeze(1).shape, x.unsqueeze(-1).shape, x.unsqueeze(0).shape"
   ]
  },
  {
   "cell_type": "code",
   "execution_count": 43,
   "metadata": {},
   "outputs": [
    {
     "name": "stdout",
     "output_type": "stream",
     "text": [
      "time: 328 ms (started: 2023-07-25 11:51:45 +03:00)\n"
     ]
    }
   ],
   "source": [
    "#* GLOABL VARIABLES\n",
    "EPOCHS = 150\n",
    "LEARNING_RATE = 3e-4\n",
    "DEVICE = torch.device(\"cuda\" if torch.cuda.is_available() else \"cpu\")\n",
    "# DEVICE = torch.device(\"cpu\")\n",
    "\n",
    "#* LSTM \n",
    "INPUT_SIZE = train_loader.dataset[0][0].shape[0]\n",
    "HIDDEN_STATE = 64\n",
    "NUM_LAYERS = 4\n",
    "NUM_CLASSES = 1 #* binary classification\n",
    "\n",
    "model = ANN().to(DEVICE)\n",
    "# model = BILSTM(INPUT_SIZE, HIDDEN_STATE, NUM_LAYERS, NUM_CLASSES, bidirection=True).to(DEVICE)\n",
    "\n",
    "\n",
    "loss = torch.nn.BCELoss()\n",
    "optimizer = torch.optim.Adam(model.parameters(), lr=LEARNING_RATE)\n",
    "\n",
    "\n",
    "\n"
   ]
  },
  {
   "cell_type": "code",
   "execution_count": 44,
   "metadata": {},
   "outputs": [
    {
     "name": "stdout",
     "output_type": "stream",
     "text": [
      "time: 281 ms (started: 2023-07-25 11:51:45 +03:00)\n"
     ]
    }
   ],
   "source": [
    "# torch.save(ann.state_dict(), \"model.pth\")\n",
    "# ann_loaded = ANN().to(DEVICE)\n",
    "# ann_loaded.load_state_dict(torch.load(\"model.pth\"))"
   ]
  },
  {
   "cell_type": "code",
   "execution_count": 45,
   "metadata": {},
   "outputs": [
    {
     "name": "stdout",
     "output_type": "stream",
     "text": [
      "Loaded saved model ANN_best_model.pth successfully\n",
      "Epoch 0 | Train Loss: 0.06682\n",
      "Epoch 0 | Train Acc: 97.34%\n",
      "Epoch 0 | Test Loss: 0.03679\n",
      "Epoch 0 | Test Acc: 98.85%\n",
      "Test loss decreased to 0.03679 saving new best model\n",
      "--------------------------------------------------\n",
      "Epoch 1 | Train Loss: 0.06642\n",
      "Epoch 1 | Train Acc: 97.45%\n",
      "Epoch 1 | Test Loss: 0.03669\n",
      "Epoch 1 | Test Acc: 98.60%\n",
      "Test loss decreased from 0.03679 to 0.03669 saving new best model\n",
      "--------------------------------------------------\n",
      "Interrupted, returning saved history\n",
      "time: 7.42 s (started: 2023-07-25 11:51:46 +03:00)\n"
     ]
    }
   ],
   "source": [
    "history = Training(\n",
    "    model,\n",
    "    train_loader,\n",
    "    test_loader,\n",
    "    EPOCHS,\n",
    "    DEVICE,\n",
    "    loss,\n",
    "    optimizer,\n",
    "    print_every=1,\n",
    "    load_saved_model=True,\n",
    ")"
   ]
  },
  {
   "cell_type": "code",
   "execution_count": null,
   "metadata": {},
   "outputs": [],
   "source": [
    "# loaded_ann = ANN().to(DEVICE)\n",
    "# loaded_ann.load_state_dict(torch.load(\"ANN_best_model.pth\"))"
   ]
  },
  {
   "cell_type": "code",
   "execution_count": 46,
   "metadata": {},
   "outputs": [
    {
     "name": "stdout",
     "output_type": "stream",
     "text": [
      "Word2Vec model loaded successfully!\n",
      "time: 1.59 s (started: 2023-07-25 11:51:56 +03:00)\n"
     ]
    }
   ],
   "source": [
    "path = \"C:\\\\Users\\\\DELL\\\\OneDrive\\\\Desktop\\\\AI projects\\\\Fake-News-Detection\\\\word2vec_model\\\\word2vec.model\"\n",
    "word2vec_model = Load_word2vec(path)\n",
    "\n",
    "\n"
   ]
  },
  {
   "cell_type": "code",
   "execution_count": 49,
   "metadata": {},
   "outputs": [
    {
     "data": {
      "text/plain": [
       "'Real, with probability: 73.26%'"
      ]
     },
     "execution_count": 49,
     "metadata": {},
     "output_type": "execute_result"
    },
    {
     "name": "stdout",
     "output_type": "stream",
     "text": [
      "time: 250 ms (started: 2023-07-25 11:52:33 +03:00)\n"
     ]
    }
   ],
   "source": [
    "from preprocess import *\n",
    "sample = \"The billionaire changed his profile picture to the new logo and added X.com to his Twitter bio.\"\n",
    "\n",
    "predict(sample, word2vec_model, model, DEVICE, prepare_for=model._get_name())\n",
    "# sample = preprocess_text(sample)\n",
    "# sample = vectorize_text(sample, word2vec_model)\n",
    "# sample = torch.tensor(sample).float().to(DEVICE).unsqueeze(0).unsqueeze(1)\n",
    "# print(sample.shape)\n",
    "# model.eval()\n",
    "# model(sample)\n",
    "# print(predict(sample, word2vec_model, loaded_ann, DEVICE))"
   ]
  },
  {
   "cell_type": "code",
   "execution_count": null,
   "metadata": {},
   "outputs": [],
   "source": [
    "# Importing metrics\n",
    "from sklearn.metrics import accuracy_score,confusion_matrix\n",
    "import seaborn as sns\n",
    "import matplotlib.pyplot as plt\n",
    "\n",
    "\n",
    "# Prediction\n",
    "y_pred = ann(torch.tensor(X_test).float().to(DEVICE)).to(\"cpu\").detach().numpy().reshape(-1)\n",
    "\n",
    "\n",
    "# Accuracy score\n",
    "print(\"Model accuracy is \",accuracy_score(y_pred,y_test))\n",
    "\n",
    "confusion_matrix = confusion_matrix(y_pred=y_pred,y_true=y_test)\n",
    "\n",
    "fig,ax = plt.subplots(figsize=(6,6))\n",
    "sns.heatmap(confusion_matrix,annot=True,fmt=\"0.1f\",linewidths=1.5)\n",
    "plt.show()"
   ]
  },
  {
   "cell_type": "code",
   "execution_count": null,
   "metadata": {},
   "outputs": [],
   "source": []
  }
 ],
 "metadata": {
  "kernelspec": {
   "display_name": "torch",
   "language": "python",
   "name": "python3"
  },
  "language_info": {
   "codemirror_mode": {
    "name": "ipython",
    "version": 3
   },
   "file_extension": ".py",
   "mimetype": "text/x-python",
   "name": "python",
   "nbconvert_exporter": "python",
   "pygments_lexer": "ipython3",
   "version": "3.8.16"
  },
  "orig_nbformat": 4
 },
 "nbformat": 4,
 "nbformat_minor": 2
}
