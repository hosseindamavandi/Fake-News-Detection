{
  "nbformat": 4,
  "nbformat_minor": 0,
  "metadata": {
    "colab": {
      "provenance": [],
      "gpuType": "T4"
    },
    "kernelspec": {
      "name": "python3",
      "display_name": "Python 3"
    },
    "language_info": {
      "name": "python"
    },
    "accelerator": "GPU"
  },
  "cells": [
    {
      "cell_type": "code",
      "execution_count": 1,
      "metadata": {
        "colab": {
          "base_uri": "https://localhost:8080/"
        },
        "id": "QCXatV7JkOZ_",
        "outputId": "eb4993ee-3e5b-4972-8b9d-d538fccabb9c"
      },
      "outputs": [
        {
          "output_type": "stream",
          "name": "stdout",
          "text": [
            "Cloning into 'Fake-News-Detection'...\n",
            "remote: Enumerating objects: 526, done.\u001b[K\n",
            "remote: Counting objects: 100% (177/177), done.\u001b[K\n",
            "remote: Compressing objects: 100% (143/143), done.\u001b[K\n",
            "remote: Total 526 (delta 81), reused 84 (delta 32), pack-reused 349\u001b[K\n",
            "Receiving objects: 100% (526/526), 102.53 MiB | 21.17 MiB/s, done.\n",
            "Resolving deltas: 100% (269/269), done.\n",
            "Updating files: 100% (30/30), done.\n"
          ]
        }
      ],
      "source": [
        "%load_ext autoreload\n",
        "%autoreload 2\n",
        "!git clone https://github.com/hosseindamavandi/Fake-News-Detection.git"
      ]
    },
    {
      "cell_type": "code",
      "source": [
        "from google.colab import drive\n",
        "drive.mount('/content/drive/')"
      ],
      "metadata": {
        "colab": {
          "base_uri": "https://localhost:8080/"
        },
        "id": "Msyklzs0k-J5",
        "outputId": "2f15a61b-930e-4c44-95ba-d1165d79e6b8"
      },
      "execution_count": 13,
      "outputs": [
        {
          "output_type": "stream",
          "name": "stdout",
          "text": [
            "Drive already mounted at /content/drive/; to attempt to forcibly remount, call drive.mount(\"/content/drive/\", force_remount=True).\n"
          ]
        }
      ]
    },
    {
      "cell_type": "code",
      "source": [
        "import os\n",
        "os.chdir('/content/Fake-News-Detection')\n",
        "os.getcwd()\n",
        "import nltk\n",
        "nltk.download('all')"
      ],
      "metadata": {
        "id": "St8HIlswkdBX"
      },
      "execution_count": null,
      "outputs": []
    },
    {
      "cell_type": "code",
      "source": [
        "!python test.py --model ANN --colab True"
      ],
      "metadata": {
        "colab": {
          "base_uri": "https://localhost:8080/"
        },
        "id": "A8CRw0nErEAY",
        "outputId": "dfa1c91a-b5c0-451a-856a-0fe8fe6ace86"
      },
      "execution_count": 20,
      "outputs": [
        {
          "output_type": "stream",
          "name": "stdout",
          "text": [
            "ANN model loaded successfully\n",
            "\n",
            "Enter a news: Donald Trump is accused of pressuring an employee to delete security footage at his Florida home, in new criminal charges related to his alleged mishandling of classified files.\n",
            "Fake, with probability: 84.52%\n"
          ]
        }
      ]
    },
    {
      "cell_type": "code",
      "source": [
        "!python test.py --model CNN1D --colab True"
      ],
      "metadata": {
        "colab": {
          "base_uri": "https://localhost:8080/"
        },
        "id": "KeLrdoyfrDjp",
        "outputId": "5e812199-217f-40f5-8a3a-2edaf32cb4ee"
      },
      "execution_count": 21,
      "outputs": [
        {
          "output_type": "stream",
          "name": "stdout",
          "text": [
            "CNN1D model loaded successfully\n",
            "\n",
            "Enter a news: Donald Trump is accused of pressuring an employee to delete security footage at his Florida home, in new criminal charges related to his alleged mishandling of classified files.\n",
            "Real, with probability: 97.11%\n"
          ]
        }
      ]
    },
    {
      "cell_type": "code",
      "source": [
        "!python test.py --model LSTM --colab True"
      ],
      "metadata": {
        "colab": {
          "base_uri": "https://localhost:8080/"
        },
        "id": "TLxlEYTgks-X",
        "outputId": "e5070753-aa4f-4ced-9822-c3aec5374c5b"
      },
      "execution_count": 19,
      "outputs": [
        {
          "output_type": "stream",
          "name": "stdout",
          "text": [
            "BILSTM model loaded successfully\n",
            "\n",
            "Enter a news: The revised indictment outlines alleged efforts between Mr Nauta and Mr de Oliviera, the property manager at Mar-a-Lago, to obstruct the justice department's investigation.  According to the new court documents, Mr Nauta and Mr de Oliveira conspired to delete footage from security cameras after the Department of Justice issued a subpoena asking for surveillance footage of the basement where it said confidential documents were held.  In the court documents, Mr de Oliveira is claimed to have texted another employee who was the director of information technology that \"the boss\" wanted the server deleted.  The documents allege that Mr de Oliveira later met with the employee in a small IT room, told him their conversation should remain private, then pressured the man into obliging his request after the employee told Mr de Oliveira that he did not have the authority.  The indictment sets out a scene where it is claimed Mr de Oliveira walked through bushes and foliage at the edge of Mar-a-Lago, a leisure resort that had been known as the Winter White House, to get to the IT room and meet Mr Nuata.  \"What are we going to do,\" Mr de Oliveira allegedly asked his co-worker. A lawyer for Mr de Oliveira has declined to comment.  The updated indictment alleges that Mr Trump knowingly discussed a top-secret document with biographers visiting Mar-a-Lago to interview him.  The indictment says the document Mr Trump revealed to the biographers contained possible plans to attack \"Country A\", which CNN and other outlets identified as Iran.\n",
            "Fake, with probability: 98.98%\n"
          ]
        }
      ]
    }
  ]
}